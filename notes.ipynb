{
 "cells": [
  {
   "attachments": {},
   "cell_type": "markdown",
   "metadata": {},
   "source": [
    "insert heading here"
   ]
  },
  {
   "attachments": {},
   "cell_type": "markdown",
   "metadata": {},
   "source": [
    "CSV is 'customers-11500000.csv' created using code from https://github.com/datablist/sample-csv-files.git"
   ]
  },
  {
   "cell_type": "code",
   "execution_count": null,
   "metadata": {},
   "outputs": [],
   "source": [
    "#writefile testutilty.py\n",
    "import logging\n",
    "import os\n",
    "import subprocess\n",
    "import yaml\n",
    "import pandas as pd\n",
    "import datetime\n",
    "import gc\n",
    "import re\n",
    "\n",
    "\n",
    "################\n",
    "# File Reading #\n",
    "################\n",
    "\n",
    "def read_config_file(filepath):\n",
    "    with open(filepath, 'r') as stream:\n",
    "        try:\n",
    "            return yaml.safe_load(stream)\n",
    "        except yaml.YAMLError as exc:\n",
    "            logging.error(exc)\n",
    "\n",
    "\n",
    "def replacer(string, char): \n",
    "    pattern = char + '{2,}'\n",
    "    string = re.sub(pattern, char, string) \n",
    "    return string\n",
    "\n",
    "\n",
    "def col_header_val(df,table_config):\n",
    "    '''\n",
    "    replace whitespaces in the column\n",
    "    and standardized column names\n",
    "    '''\n",
    "    df.columns = df.columns.str.lower()\n",
    "    df.columns = df.columns.str.replace('[^\\w]','_',regex=True)\n",
    "    df.columns = list(map(lambda x: x.strip('_'), list(df.columns)))\n",
    "    df.columns = list(map(lambda x: replacer(x,'_'), list(df.columns)))\n",
    "    expected_col = list(map(lambda x: x.lower(),  table_config['columns']))\n",
    "    expected_col.sort()\n",
    "    df.columns =list(map(lambda x: x.lower(), list(df.columns)))\n",
    "    df = df.reindex(sorted(df.columns), axis=1)\n",
    "    if len(df.columns) == len(expected_col) and list(expected_col)  == list(df.columns):\n",
    "        print(\"column name and column length validation passed\")\n",
    "        return 1\n",
    "    else:\n",
    "        print(\"column name and column length validation failed\")\n",
    "        mismatched_columns_file = list(set(df.columns).difference(expected_col))\n",
    "        print(\"Following File columns are not in the YAML file\",mismatched_columns_file)\n",
    "        missing_YAML_file = list(set(expected_col).difference(df.columns))\n",
    "        print(\"Following YAML columns are not in the file uploaded\",missing_YAML_file)\n",
    "        logging.info(f'df columns: {df.columns}')\n",
    "        logging.info(f'expected columns: {expected_col}')\n",
    "        return 0"
   ]
  },
  {
   "attachments": {},
   "cell_type": "markdown",
   "metadata": {},
   "source": [
    "Writing YAML File"
   ]
  },
  {
   "cell_type": "code",
   "execution_count": null,
   "metadata": {},
   "outputs": [],
   "source": [
    "# writefile file.yaml\n",
    "file_type: csv\n",
    "dataset_name: customers-11500000 \n",
    "file_name: customers-11500000 \n",
    "table_name: edsurv\n",
    "inbound_delimiter: \",\"\n",
    "outbound_delimiter: \"|\"\n",
    "skip_leading_rows: 1\n",
    "columns: \n",
    "    - Index\n",
    "    - Customer_Id\n",
    "    - First_Name\n",
    "    - Last_Name\n",
    "    - Company\n",
    "    - City\n",
    "    - Country\n",
    "    - Phone_1\n",
    "    - Phone_2\n",
    "    - Email\n",
    "    - Subscription_Date\n",
    "    - Website "
   ]
  },
  {
   "cell_type": "code",
   "execution_count": null,
   "metadata": {},
   "outputs": [],
   "source": [
    "# read config file\n",
    "import testutility as util\n",
    "import datetime\n",
    "import time\n",
    "config_data=util.read_config_file('file.yaml')"
   ]
  },
  {
   "cell_type": "code",
   "execution_count": null,
   "metadata": {},
   "outputs": [],
   "source": [
    "config_data"
   ]
  },
  {
   "cell_type": "code",
   "execution_count": null,
   "metadata": {},
   "outputs": [],
   "source": [
    "#normal processing of the file\n",
    "start=datetime.datetime.now()\n",
    "import pandas as pd\n",
    "df_sample=pd.read_csv(\"customers-11500000.csv\",delimiter=',')\n",
    "df_sample.head()\n",
    "\n",
    "end=datetime.datetime.now()\n",
    "elapsed=end-start\n",
    "print('run time: ',elapsed)"
   ]
  },
  {
   "attachments": {},
   "cell_type": "markdown",
   "metadata": {},
   "source": [
    "Pandas readcsv run time: 0:00:59.715164 "
   ]
  },
  {
   "cell_type": "code",
   "execution_count": null,
   "metadata": {},
   "outputs": [],
   "source": [
    "# read the file using config file\n",
    "start=datetime.datetime.now()\n",
    "\n",
    "file_type = config_data['file_type']\n",
    "source_file = \"./\" + config_data['file_name'] + f'.{file_type}'\n",
    "df = pd.read_csv(source_file,config_data['inbound_delimiter']) \n",
    "df.head()\n",
    "\n",
    "end=datetime.datetime.now()\n",
    "elapsed=end-start\n",
    "print('run time: ',elapsed)"
   ]
  },
  {
   "attachments": {},
   "cell_type": "markdown",
   "metadata": {},
   "source": [
    "Pandas readcsv with YAML config run time: 0:00:48.311845"
   ]
  },
  {
   "cell_type": "code",
   "execution_count": null,
   "metadata": {},
   "outputs": [],
   "source": [
    "#validate the headers of the file\n",
    "util.col_header_val(df,config_data)"
   ]
  },
  {
   "attachments": {},
   "cell_type": "markdown",
   "metadata": {},
   "source": [
    "column name and column length validation passed"
   ]
  },
  {
   "cell_type": "code",
   "execution_count": null,
   "metadata": {},
   "outputs": [],
   "source": [
    "print(\"columns of files are:\" ,df.columns)\n",
    "print(\"columns of YAML are:\" ,config_data['columns'])"
   ]
  },
  {
   "attachments": {},
   "cell_type": "markdown",
   "metadata": {},
   "source": [
    "columns of files are: Index(['index', 'customer_id', 'first_name', 'last_name', 'company', 'city',\n",
    "       'country', 'phone_1', 'phone_2', 'email', 'subscription_date',\n",
    "       'website'],\n",
    "      dtype='object')\n",
    "columns of YAML are: ['Index', 'Customer_Id', 'First_Name', 'Last_Name', 'Company', 'City', 'Country', 'Phone_1', 'Phone_2', 'Email', 'Subscription_Date', 'Website']"
   ]
  },
  {
   "cell_type": "code",
   "execution_count": null,
   "metadata": {},
   "outputs": [],
   "source": [
    "#converting file with pipeline delimiter\n",
    "start=datetime.datetime.now()\n",
    "import csv\n",
    "with open('customers-11500000.csv') as fin:\n",
    "    with open('OutputFile.txt','w',newline='') as fout:\n",
    "        reader=csv.DictReader(fin, delimiter=',')\n",
    "        writer=csv.DictWriter(fout,reader.fieldnames,delimiter='|')\n",
    "        writer.writeheader()\n",
    "        writer.writerows(reader)\n",
    "end=datetime.datetime.now()\n",
    "elapsed=end-start\n",
    "print('run time: ',elapsed)"
   ]
  },
  {
   "attachments": {},
   "cell_type": "markdown",
   "metadata": {},
   "source": [
    "Run time for converting to '|' delimiter: 0:02:12.546689"
   ]
  },
  {
   "cell_type": "code",
   "execution_count": null,
   "metadata": {},
   "outputs": [],
   "source": [
    "#convert output.txt to the gz format type\n",
    "import gzip\n",
    "start=datetime.datetime.now()\n",
    "with open('OutputFile.txt','rb') as orig_file:\n",
    "    with gzip.open('OutputFile.txt.gz','wb') as zipped_file:\n",
    "        zipped_file.writelines(orig_file)\n",
    "end=datetime.datetime.now()\n",
    "elapsed=end-start\n",
    "print('run time: ',elapsed)"
   ]
  },
  {
   "attachments": {},
   "cell_type": "markdown",
   "metadata": {},
   "source": [
    "Run time to convert the output to gz format: 0:02:02.217650"
   ]
  },
  {
   "attachments": {},
   "cell_type": "markdown",
   "metadata": {},
   "source": [
    "Comparing read times with other methods as a measure of computational efficiency"
   ]
  },
  {
   "cell_type": "code",
   "execution_count": null,
   "metadata": {},
   "outputs": [],
   "source": [
    "#Ray:\n",
    "start=datetime.datetime.now()\n",
    "import ray\n",
    "ds=ray.data.read_csv('customers-11500000.csv')\n",
    "ds.head()\n",
    "\n",
    "end=datetime.datetime.now()\n",
    "elapsed=end-start\n",
    "print('run time: ',elapsed)"
   ]
  },
  {
   "attachments": {},
   "cell_type": "markdown",
   "metadata": {},
   "source": [
    "2023-02-09 17:14:50,949 INFO worker.py:1538 -- Started a local Ray instance.\n",
    "2023-02-09 17:14:52,064 WARNING read_api.py:315 -- ⚠️  The blocks of this dataset are estimated to be 3.0x larger than the target block size of 512 MiB. This may lead to out-of-memory errors during processing. Consider reducing the size of input files or using `.repartition(n)` to increase the number of dataset blocks.\n",
    "run time:  0:07:33.805030\n",
    "\n",
    "\n",
    "NOTE: ran it on file with more cols/fewer rows and ran much much much quicker despite same file size (run time: 0:00:33.144028)\n",
    "OTHER NOTE: repartition(n) was unsuccessful"
   ]
  },
  {
   "cell_type": "code",
   "execution_count": null,
   "metadata": {},
   "outputs": [],
   "source": [
    "#Dask:\n",
    "import dask\n",
    "import dask.dataframe as dd\n",
    "start=datetime.datetime.now()\n",
    "print('run time: ',elapsed)\n",
    "df=dd.read_csv('customers-11500000.csv')\n",
    "df.head()\n",
    "end=datetime.datetime.now()\n",
    "elapsed=end-start"
   ]
  },
  {
   "attachments": {},
   "cell_type": "markdown",
   "metadata": {},
   "source": [
    "Dask run time: 0:00:05.342901"
   ]
  },
  {
   "attachments": {},
   "cell_type": "markdown",
   "metadata": {},
   "source": [
    "Summary:\n"
   ]
  },
  {
   "cell_type": "code",
   "execution_count": null,
   "metadata": {},
   "outputs": [],
   "source": [
    "num_rows = len(df_sample.index)\n",
    "num_cols = len(df_sample.columns)\n",
    "file_size = '2.02 GB'\n",
    "print('Number of rows: ',num_rows)\n",
    "print('Number of columns: ',num_cols)\n",
    "print('File size: ',file_size)"
   ]
  },
  {
   "attachments": {},
   "cell_type": "markdown",
   "metadata": {},
   "source": [
    "Number of rows:  11500000\n",
    "Number of columns:  12\n",
    "File size:  2.02 GB"
   ]
  },
  {
   "cell_type": "markdown",
   "metadata": {},
   "source": []
  }
 ],
 "metadata": {
  "language_info": {
   "name": "python"
  },
  "orig_nbformat": 4
 },
 "nbformat": 4,
 "nbformat_minor": 2
}
